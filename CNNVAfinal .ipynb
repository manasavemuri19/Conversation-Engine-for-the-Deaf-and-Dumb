{
 "cells": [
  {
   "cell_type": "code",
   "execution_count": 2,
   "metadata": {
    "scrolled": true
   },
   "outputs": [],
   "source": [
    "import cv2\n",
    "import numpy as np\n",
    "from keras.models import load_model\n",
    "from keras.preprocessing import image\n",
    "model=load_model(\"pred.h5\")\n",
    "video=cv2.VideoCapture(0) # two parameters 1,bool 0 or 1,frame\n",
    "if not video.isOpened():\n",
    "    raise IOError(\"Cannot open webcam\")\n",
    "index=[\"0\",\n",
    " \"1\",\n",
    " \"2\",\n",
    " \"3\",\n",
    " \"4\",\n",
    " \"5\",\n",
    " \"6\",\n",
    " \"7\",\n",
    " \"8\",\n",
    " \"9\",\n",
    " \"A\",\n",
    " \"B\",\n",
    " \"C\",\n",
    " \"D\",\n",
    " \"E\",\n",
    " \"F\",\n",
    " \"G\",\n",
    " \"H\",\n",
    " \"I\",\n",
    " \"J\",\n",
    " \"K\",\n",
    " \"L\",\n",
    " \"M\",\n",
    " \"N\",\n",
    " \"O\",\n",
    " \"P\",\n",
    " \"Q\",\n",
    " \"R\",\n",
    " \"S\",\n",
    " \"T\",\n",
    " \"U\",\n",
    " \"V\",\n",
    " \"W\",\n",
    " \"X\",\n",
    " \"Y\",\n",
    " \"Z\"] \n",
    "while(1):\n",
    "    success,frame=video.read()\n",
    "    cv2.imwrite(\"image.jpg\",frame)\n",
    "    img=image.load_img(\"image.jpg\",target_size=(128,128))\n",
    "    x=image.img_to_array(img)\n",
    "    x=np.expand_dims(x,axis=0)\n",
    "    pred=model.predict_classes(x)\n",
    "    p=pred[0]\n",
    "    cv2.putText(frame,\"predicted gesture is \"+str(index[p]),(100,100),cv2.FONT_HERSHEY_SIMPLEX,1,(255,255,255),1)\n",
    "    cv2.imshow(\"image\",frame)\n",
    "    if cv2.waitKey(1) & 0xFF == ord('a'):\n",
    "        break\n",
    "video.release()\n",
    "cv2.destroyAllWindows()"
   ]
  },
  {
   "cell_type": "code",
   "execution_count": null,
   "metadata": {},
   "outputs": [],
   "source": []
  },
  {
   "cell_type": "code",
   "execution_count": null,
   "metadata": {},
   "outputs": [],
   "source": []
  },
  {
   "cell_type": "code",
   "execution_count": null,
   "metadata": {},
   "outputs": [],
   "source": []
  },
  {
   "cell_type": "code",
   "execution_count": null,
   "metadata": {},
   "outputs": [],
   "source": []
  },
  {
   "cell_type": "code",
   "execution_count": null,
   "metadata": {},
   "outputs": [],
   "source": []
  },
  {
   "cell_type": "code",
   "execution_count": null,
   "metadata": {},
   "outputs": [],
   "source": []
  },
  {
   "cell_type": "code",
   "execution_count": null,
   "metadata": {},
   "outputs": [],
   "source": []
  },
  {
   "cell_type": "code",
   "execution_count": null,
   "metadata": {},
   "outputs": [],
   "source": []
  }
 ],
 "metadata": {
  "kernelspec": {
   "display_name": "Python 3",
   "language": "python",
   "name": "python3"
  },
  "language_info": {
   "codemirror_mode": {
    "name": "ipython",
    "version": 3
   },
   "file_extension": ".py",
   "mimetype": "text/x-python",
   "name": "python",
   "nbconvert_exporter": "python",
   "pygments_lexer": "ipython3",
   "version": "3.7.6"
  }
 },
 "nbformat": 4,
 "nbformat_minor": 4
}
